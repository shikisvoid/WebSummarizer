{
  "cells": [
    {
      "cell_type": "code",
      "execution_count": 11,
      "metadata": {
        "id": "HkV7LKE3a95g"
      },
      "outputs": [],
      "source": [
        "import os\n",
        "import requests\n",
        "from dotenv import load_dotenv\n",
        "from bs4 import BeautifulSoup\n",
        "from IPython.display import Markdown, display\n",
        "from openai import OpenAI\n",
        "from requests_html import AsyncHTMLSession\n"
      ]
    },
    {
      "cell_type": "code",
      "execution_count": null,
      "metadata": {
        "id": "br8J0I81htVM"
      },
      "outputs": [],
      "source": [
        "!pip install lxml_html_clean"
      ]
    },
    {
      "cell_type": "code",
      "execution_count": null,
      "metadata": {
        "id": "HaxiAREMhdGH"
      },
      "outputs": [],
      "source": [
        "!pip install requests_html"
      ]
    },
    {
      "cell_type": "code",
      "execution_count": null,
      "metadata": {
        "id": "xCWiC71ZdDc7"
      },
      "outputs": [],
      "source": [
        "os.environ['OPENAI_API_KEY'] = ''"
      ]
    },
    {
      "cell_type": "code",
      "execution_count": 7,
      "metadata": {
        "id": "Mq0hpVxecNVk"
      },
      "outputs": [],
      "source": [
        "api_key = os.getenv('OPENAI_API_KEY')"
      ]
    },
    {
      "cell_type": "code",
      "execution_count": 8,
      "metadata": {
        "id": "2SkyzTMsdQ7q"
      },
      "outputs": [],
      "source": [
        "openai = OpenAI()"
      ]
    },
    {
      "cell_type": "code",
      "execution_count": 12,
      "metadata": {
        "id": "6SiiMS3CeWBv"
      },
      "outputs": [],
      "source": [
        "class Website:\n",
        "    def __init__(self, url):\n",
        "        self.url = url\n",
        "        self.title = \"\"\n",
        "        self.text = \"\"\n",
        "\n",
        "    async def fetch(self):\n",
        "        session = AsyncHTMLSession()\n",
        "        response = await session.get(self.url)\n",
        "        await response.html.arender()  # Async version!\n",
        "        title_elem = response.html.find('title', first=True)\n",
        "        self.title = title_elem.text if title_elem else \"No title found\"\n",
        "        body_elem = response.html.find('body', first=True)\n",
        "        self.text = body_elem.text if body_elem else \"\"\n",
        "\n"
      ]
    },
    {
      "cell_type": "code",
      "execution_count": null,
      "metadata": {
        "id": "_P7vrulMgL4L"
      },
      "outputs": [],
      "source": [
        "ed = Website(\"https://edwarddonner.com/\")\n",
        "\n",
        "import asyncio\n",
        "await ed.fetch()\n",
        "\n",
        "print(ed.title)\n",
        "print(ed.text)"
      ]
    },
    {
      "cell_type": "code",
      "execution_count": 14,
      "metadata": {
        "id": "Zs1fcGMtjSHo"
      },
      "outputs": [],
      "source": [
        "system_prompt = \"You are an assistant that analyzes the contents of a website \\\n",
        "and provides a short summary, ignoring text that might be navigation related. \\\n",
        "Respond in markdown.\""
      ]
    },
    {
      "cell_type": "code",
      "execution_count": 15,
      "metadata": {
        "id": "Yc4lxrqmkSp_"
      },
      "outputs": [],
      "source": [
        "def user_prompt_for(website):\n",
        "    user_prompt = f\"You are looking at a website titled {website.title}\"\n",
        "    user_prompt += \"\\nThe contents of this website is as follows; \\\n",
        "please provide a short summary of this website in markdown. \\\n",
        "If it includes news or announcements, then summarize these too.\\n\\n\"\n",
        "    user_prompt += website.text\n",
        "    return user_prompt"
      ]
    },
    {
      "cell_type": "code",
      "execution_count": null,
      "metadata": {
        "collapsed": true,
        "id": "SVxYUJJckZuh"
      },
      "outputs": [],
      "source": [
        "print(user_prompt_for(ed))"
      ]
    },
    {
      "cell_type": "code",
      "execution_count": 17,
      "metadata": {
        "id": "vlVIiZQokfDf"
      },
      "outputs": [],
      "source": [
        "def messages_for(website):\n",
        "    return [\n",
        "        {\"role\": \"system\", \"content\": system_prompt},\n",
        "        {\"role\": \"user\", \"content\": user_prompt_for(website)}\n",
        "    ]"
      ]
    },
    {
      "cell_type": "code",
      "execution_count": 20,
      "metadata": {
        "id": "8MpPSvRKkv4i"
      },
      "outputs": [],
      "source": [
        "async def summarize(url):\n",
        "    website = Website(url)\n",
        "    await website.fetch()\n",
        "    response = openai.chat.completions.create(\n",
        "        model = \"gpt-4o-mini\",\n",
        "        messages = messages_for(website)\n",
        "    )\n",
        "    return response.choices[0].message.content"
      ]
    },
    {
      "cell_type": "code",
      "execution_count": null,
      "metadata": {
        "id": "h7sD9ujXnIEQ"
      },
      "outputs": [],
      "source": [
        "summarize(\"https://edwarddonner.com\")"
      ]
    },
    {
      "cell_type": "code",
      "execution_count": 24,
      "metadata": {
        "id": "8B338iRGnf8w"
      },
      "outputs": [],
      "source": [
        "async def display_summary(url):\n",
        "    summary = await summarize(url)\n",
        "    display(Markdown(summary))"
      ]
    },
    {
      "cell_type": "code",
      "execution_count": null,
      "metadata": {
        "id": "0OsoDU1DnhXF"
      },
      "outputs": [],
      "source": [
        "await display_summary(\"https://edwarddonner.com\")"
      ]
    }
  ],
  "metadata": {
    "colab": {
      "provenance": []
    },
    "kernelspec": {
      "display_name": "Python 3",
      "name": "python3"
    },
    "language_info": {
      "name": "python"
    }
  },
  "nbformat": 4,
  "nbformat_minor": 0
}
